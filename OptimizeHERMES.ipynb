{
 "cells": [
  {
   "cell_type": "markdown",
   "metadata": {},
   "source": [
    "# Optimizing HERMES\n",
    "HERMES is a hybrid integrator that is capable of accurately resolving close encounters and collisions. It is a very powerful tool for a large number of problems, but does require some optimization by the user in order to find the optimal balance of speed and accuracy.  \n",
    "\n",
    "The two main parameters that need to be optimized are the hybrid switch radius ($HSR$) and the time step ($dt$). $HSR$ defines the close encounter region inside of which the IAS15 algorithm takes over, and $dt$ controls how far a particle can travel between successive close encounter checks. If these values are incorrectly chosen the integrator will certainly still run, but either your energy error will be too large or the integration will take much longer than it needs to. As a rough rule of thumb you should aim for: \n",
    "\\begin{equation}\n",
    "dt \\sim \\frac{HSR*r_{hill,cmb}}{dv_{max}} \n",
    "\\end{equation}\n",
    "where $dv_{max}$ is the max relative velocity between your planet and planetesimal over the course of a simulation and $r_{hill,cmb}$ is the combined hill radius of your planet and planetesimal (can be approximated as just the planet's hill radius if participating bodies in the close encounter are small).  \n",
    "\n",
    "\n",
    "Each specific problem will have its own optimal combination of $dt$ and $HSR$. Here we provide a general recipe for optimizing HERMES using the example of a planet embedded in a disk of planetesimals."
   ]
  },
  {
   "cell_type": "code",
   "execution_count": 1,
   "metadata": {
    "collapsed": true
   },
   "outputs": [],
   "source": [
    "import rebound\n",
    "import numpy as np"
   ]
  },
  {
   "cell_type": "markdown",
   "metadata": {},
   "source": [
    "### Functions\n",
    "For this tutorial we'll need to make use of quite a few different functions, which we will build up from scratch. The first set of functions we'll need are different distributions for drawing orbital parameters."
   ]
  },
  {
   "cell_type": "code",
   "execution_count": 2,
   "metadata": {
    "collapsed": true
   },
   "outputs": [],
   "source": [
    "def rand_powerlaw(slope, min_v, max_v):\n",
    "    y = np.random.uniform()\n",
    "    pow_max = pow(max_v, slope+1.)\n",
    "    pow_min = pow(min_v, slope+1.)\n",
    "    return pow((pow_max-pow_min)*y + pow_min, 1./(slope+1.))\n",
    "\n",
    "def rand_uniform(minimum, maximum):\n",
    "    return np.random.uniform()*(maximum-minimum)+minimum\n",
    "\n",
    "def rand_rayleigh(sigma):\n",
    "    return sigma*np.sqrt(-2*np.log(np.random.uniform()))"
   ]
  },
  {
   "cell_type": "markdown",
   "metadata": {},
   "source": [
    "Next we need a function that can check whether $dt$ and $HSR$ are sufficient to efficiently capture and resolve close encounters, i.e. using the equation above. The function created below, \"check_for_bad_dt\", accomplishes this goal, but it turns out rebound already checks for this each iteration, returning a \"timestep_too_large\" flag if it is a bad region of ($dt$, $HSR$) parameter space."
   ]
  },
  {
   "cell_type": "code",
   "execution_count": 3,
   "metadata": {
    "collapsed": false
   },
   "outputs": [],
   "source": [
    "def check_for_bad_dt(sim):\n",
    "    bad_dt = 0\n",
    "    \n",
    "    par = sim.particles\n",
    "    p0 = sim.particles[0]                                      #star\n",
    "    p = sim.particles[sim.N_active]                            #planet\n",
    "    dx = p.x - p0.x\n",
    "    dy = p.y - p0.y\n",
    "    dz = p.z - p0.z\n",
    "    mh = (p.m/(3*p0.m))**(1./3.)\n",
    "    rhill_p = mh*(dx*dx + dy*dy + dz*dz)**(0.5)               #hill radius planet\n",
    "    vmax = 0                                                  #max relative velocity squared\n",
    "    for i in xrange(sim.N_active,sim.N):\n",
    "        dx_i = par[i].x - p0.x\n",
    "        dy_i = par[i].y - p0.y\n",
    "        dz_i = par[i].z - p0.z\n",
    "        mh_i = (par[i].m/(3*p0.m))**(1./3.)\n",
    "        rhill_p_i = mh_i*(dx_i*dx_i + dy_i*dy_i + dz_i*dz_i)**(0.5)\n",
    "        rh_sum = rhill_p + rhill_p_i\n",
    "        dvx = par[i].vx - p.vx\n",
    "        dvy = par[i].vy - p.vy\n",
    "        dvz = par[i].vz - p.vz\n",
    "        v = (dvx*dvx + dvy*dvy + dvz*dvz)**(0.5)\n",
    "        if v > vmax:\n",
    "            vmax = v\n",
    "    HSR = sim.ri_hybarid.switch_radius\n",
    "    min_dt = HSR*rh_sum / vmax\n",
    "    if(min_dt < 4*sim.dt):\n",
    "        bad_dt = 1                                           #factor of 4 for extra wiggle room\n",
    "    return bad_dt"
   ]
  },
  {
   "cell_type": "markdown",
   "metadata": {},
   "source": [
    "### Problem\n",
    "Next let's quickly create a test problem which simulates a single Earth-sized planet embedded in a disk of planetesimals, allowing for collisions, ejections and close encounters. This problem is very similar to the \"Primordial Earth\" example."
   ]
  },
  {
   "cell_type": "code",
   "execution_count": 4,
   "metadata": {
    "collapsed": true
   },
   "outputs": [],
   "source": [
    "import time as timing\n",
    "def sim_problem(params, tmax):\n",
    "    sim = rebound.Simulation()\n",
    "    \n",
    "    HSR, dt = params\n",
    "    \n",
    "    #integrator options\n",
    "    sim.integrator = \"hybarid\"\n",
    "    sim.ri_hybarid.switch_radius = HSR\n",
    "    sim.ri_hybarid.CE_radius = 20.\n",
    "    sim.dt = dt\n",
    "    sim.testparticle_type = 1   #if set to 0, they become test bodies.\n",
    "\n",
    "    #collision and boundary options\n",
    "    sim.collision = \"direct\"\n",
    "    sim.collision_resolve = \"merge\"\n",
    "    sim.boundary = \"open\"\n",
    "    boxsize = 3.\n",
    "    sim.configure_box(boxsize)\n",
    "    sim.collisions_track_dE = 1\n",
    "    \n",
    "    #sun\n",
    "    sim.add(m=1.)\n",
    "    \n",
    "    #planet\n",
    "    a_p = 0.5\n",
    "    sim.add(m=3e-6,r=5e-5,a=a_p,e=0.01)\n",
    "    \n",
    "    sim.N_active = sim.N\n",
    "    \n",
    "    #Planetesimals\n",
    "    N_pl = 50\n",
    "    m_pl = 1e-9\n",
    "    r_pl = 1.1e-5\n",
    "    while sim.N < (N_pl + sim.N_active):\n",
    "        a = rand_powerlaw(0, a_p-0.03, a_p+0.03)\n",
    "        e = rand_rayleigh(0.01)\n",
    "        inc = rand_rayleigh(0.05)\n",
    "        Omega = rand_uniform(0,2*np.pi)\n",
    "        omega = rand_uniform(0,2*np.pi)\n",
    "        f = rand_uniform(0,2*np.pi)\n",
    "        sim.add(m=m_pl, r=r_pl, a=a, e=e, inc=inc, Omega=Omega, omega=omega, f=f)\n",
    "    \n",
    "    #Final initializations\n",
    "    sim.move_to_com()\n",
    "    E0 = sim.calculate_energy()\n",
    "    \n",
    "    #integrate, keeping track of elapsed time\n",
    "    start_t = timing.time()\n",
    "    sim.integrate(tmax)\n",
    "    time = timing.time() - start_t\n",
    "    \n",
    "    #Final processing\n",
    "    bad_dt = check_for_bad_dt(sim)\n",
    "    #bad_dt = sim.ri_hybarid.timestep_too_large_warning\n",
    "    dE = abs((sim.calculate_energy() - E0)/E0)\n",
    "    \n",
    "    return HSR, dt, dE, bad_dt, time"
   ]
  },
  {
   "cell_type": "markdown",
   "metadata": {},
   "source": [
    "Great! Now, let's create a grid search function to efficiently sample the parameter space of interest."
   ]
  },
  {
   "cell_type": "code",
   "execution_count": 5,
   "metadata": {
    "collapsed": true
   },
   "outputs": [],
   "source": [
    "np.random.RandomState(43)\n",
    "\n",
    "def Grid_Search(dt_array, HSR_array, sim_time):\n",
    "    minpowdt,maxpowdt,numdt = dt_array\n",
    "    minpowHSR,maxpowHSR,numHSR = HSR_array\n",
    "    dt = np.logspace(minpowdt,maxpowdt,numdt)\n",
    "    HSR = np.logspace(minpowHSR,maxpowHSR,numHSR)\n",
    "    params = zip(HSR,np.random.permutation(dt))  #randomize one of the variables for efficient grid search\n",
    "    return [sim_problem(p,sim_time) for p in params]"
   ]
  },
  {
   "cell_type": "markdown",
   "metadata": {},
   "source": [
    "Finally we need to specify the parameter space we want to explore. To avoid this taking a long time we'll use a short simulation time."
   ]
  },
  {
   "cell_type": "code",
   "execution_count": 6,
   "metadata": {
    "collapsed": false
   },
   "outputs": [],
   "source": [
    "n_trials = 50\n",
    "simulation_time = 25      #Use at least a few orbital periods\n",
    "dt = [-4,0,n_trials]      #min/max limits in logspace, i.e. 10**min - 10**max.\n",
    "HSR = [0,2,n_trials]      #min/max limits in logspace, i.e. 10**min - 10**max."
   ]
  },
  {
   "cell_type": "markdown",
   "metadata": {},
   "source": [
    "### Calculate\n",
    "Calculate the results. **Warning!** This might take a while."
   ]
  },
  {
   "cell_type": "code",
   "execution_count": 7,
   "metadata": {
    "collapsed": false
   },
   "outputs": [],
   "source": [
    "results = Grid_Search(dt,HSR,simulation_time)"
   ]
  },
  {
   "cell_type": "markdown",
   "metadata": {},
   "source": [
    "### Analyze\n",
    "Great! Now let's plot the results."
   ]
  },
  {
   "cell_type": "code",
   "execution_count": 8,
   "metadata": {
    "collapsed": false
   },
   "outputs": [
    {
     "name": "stderr",
     "output_type": "stream",
     "text": [
      "/Users/chelsea/miniconda2/lib/python2.7/site-packages/matplotlib/font_manager.py:273: UserWarning: Matplotlib is building the font cache using fc-list. This may take a moment.\n",
      "  warnings.warn('Matplotlib is building the font cache using fc-list. This may take a moment.')\n"
     ]
    },
    {
     "data": {
      "image/png": "[encoded data removed]",
      "text/plain": [
       "<matplotlib.figure.Figure at 0x1064f5f10>"
      ]
     },
     "metadata": {},
     "output_type": "display_data"
    }
   ],
   "source": [
    "import pandas as pd\n",
    "data = pd.DataFrame(results, columns=[\"HSR\",\"dt\",\"dE\",\"bad_dt\",\"elapsed_time\"])\n",
    "\n",
    "import matplotlib.pyplot as plt\n",
    "%matplotlib inline\n",
    "plt.scatter(data[\"HSR\"], data[\"dt\"], c=data[\"bad_dt\"], cmap=\"autumn_r\")\n",
    "cbar = plt.colorbar()\n",
    "size=13\n",
    "cbar.set_label(\"Missed Close Encounters during Simulation\",size=10)\n",
    "plt.xlabel('$HSR$',fontsize=size)\n",
    "plt.ylabel('$dt$',fontsize=size)\n",
    "plt.title('Single Planet, Np=100',fontsize=size)\n",
    "plt.ylim([10**(dt[0]-1),1])\n",
    "plt.xlim([0.5,10**HSR[1]])\n",
    "plt.yscale('log')\n",
    "plt.xscale('log')\n",
    "plt.savefig(\"Parameter_Search_goodbad_C.pdf\")"
   ]
  },
  {
   "cell_type": "markdown",
   "metadata": {},
   "source": [
    "The red points indicate regions of parameter space where close encounters will be missed, leading to a loss of accuracy and inaccurate results. The yellow points correspond to desirable regions of parameter space where the physics of the problem will be accurately captured. "
   ]
  },
  {
   "cell_type": "markdown",
   "metadata": {},
   "source": [
    "### Quick Detour to Machine Learning Land\n",
    "Although one can tell fairly easily by eye where the boundary is between good and bad points, let's formalize this process using a support vector machine (SVM) to statistically find this boundary. First we need to transform the data so that both parameters have similar ranges and are on the same scale."
   ]
  },
  {
   "cell_type": "code",
   "execution_count": 10,
   "metadata": {
    "collapsed": false
   },
   "outputs": [],
   "source": [
    "from sklearn.preprocessing import StandardScaler\n",
    "y=data[\"bad_dt\"]\n",
    "data[\"logdt\"] = np.log10(data[\"dt\"])  #convert log axis to linear\n",
    "Xcolumns = [\"HSR\",\"logdt\"]\n",
    "XX = data[Xcolumns]\n",
    "scaler = StandardScaler().fit(XX)\n",
    "X = scaler.transform(XX)"
   ]
  },
  {
   "cell_type": "markdown",
   "metadata": {},
   "source": [
    "Now let's find the boundary."
   ]
  },
  {
   "cell_type": "code",
   "execution_count": 11,
   "metadata": {
    "collapsed": false
   },
   "outputs": [],
   "source": [
    "from sklearn.svm import SVC\n",
    "clf=SVC(kernel='linear',C=10)\n",
    "clf.fit(X,y);"
   ]
  },
  {
   "cell_type": "markdown",
   "metadata": {},
   "source": [
    "That was easy! Let's plot the data along with our SVM boundary and supporting vectors."
   ]
  },
  {
   "cell_type": "code",
   "execution_count": 12,
   "metadata": {
    "collapsed": false
   },
   "outputs": [
    {
     "data": {
      "text/plain": [
       "<matplotlib.text.Text at 0x10c0bbe50>"
      ]
     },
     "execution_count": 12,
     "metadata": {},
     "output_type": "execute_result"
    },
    {
     "data": {
      "image/png": "[encoded data removed]",
      "text/plain": [
       "<matplotlib.figure.Figure at 0x10c097950>"
      ]
     },
     "metadata": {},
     "output_type": "display_data"
    }
   ],
   "source": [
    "#Get SVM coefficients\n",
    "w=clf.coef_[0]\n",
    "a=-w[0]/w[1]\n",
    "\n",
    "#sample the SVM boundary and transform back to original co-ords\n",
    "x,y = zip(*X)\n",
    "xx = np.linspace(min(x),max(x))\n",
    "yy=a*xx-(clf.intercept_[0])/w[1]\n",
    "xx,yy = zip(*scaler.inverse_transform(zip(xx,yy)))\n",
    "\n",
    "#get support vectors and transform back to original coords\n",
    "supx, supy = zip(*scaler.inverse_transform(zip(clf.support_vectors_[:,0],clf.support_vectors_[:,1])))\n",
    "\n",
    "#plot\n",
    "plt.plot(xx,yy,'k-',linewidth=2)\n",
    "plt.scatter(data[\"HSR\"], data[\"logdt\"], c=data[\"bad_dt\"], cmap=\"autumn_r\")\n",
    "cbar = plt.colorbar()\n",
    "cbar.set_label(\"Missed Close Encounters during Simulation\",size=10)\n",
    "plt.scatter(supx,supy,s=80,facecolors='none')\n",
    "plt.xscale('log')\n",
    "plt.xlim([0.5,10**HSR[1]])\n",
    "plt.xlabel(\"$HSR$\",fontsize=size)\n",
    "plt.ylabel(\"log$_{10}$($dt$)\",fontsize=size)"
   ]
  },
  {
   "cell_type": "markdown",
   "metadata": {},
   "source": [
    "The power of the support vector machine comes from its ability to predict new data. For example, testing whether a new combination of [HSR,log(dt)] would yield a positive [0] or negative [1] result is easy!"
   ]
  },
  {
   "cell_type": "code",
   "execution_count": 13,
   "metadata": {
    "collapsed": false
   },
   "outputs": [
    {
     "name": "stdout",
     "output_type": "stream",
     "text": [
      "Using SVM, HSR=60, log(dt)=-2 yields: 1\n"
     ]
    },
    {
     "name": "stderr",
     "output_type": "stream",
     "text": [
      "/opt/local/Library/Frameworks/Python.framework/Versions/2.7/lib/python2.7/site-packages/sklearn/utils/validation.py:431: DataConversionWarning: Data with input dtype int64 was converted to float64 by StandardScaler.\n",
      "  warnings.warn(msg, DataConversionWarning_)\n",
      "/opt/local/Library/Frameworks/Python.framework/Versions/2.7/lib/python2.7/site-packages/sklearn/preprocessing/data.py:639: DeprecationWarning: Passing 1d arrays as data is deprecated in 0.17 and will raise ValueError in 0.19. Reshape your data either using X.reshape(-1, 1) if your data has a single feature or X.reshape(1, -1) if it contains a single sample.\n",
      "  warnings.warn(DEPRECATION_MSG_1D, DeprecationWarning)\n",
      "/opt/local/Library/Frameworks/Python.framework/Versions/2.7/lib/python2.7/site-packages/sklearn/utils/validation.py:397: DeprecationWarning: Passing 1d arrays as data is deprecated in 0.17 and will raise ValueError in 0.19. Reshape your data either using X.reshape(-1, 1) if your data has a single feature or X.reshape(1, -1) if it contains a single sample.\n",
      "  DeprecationWarning)\n"
     ]
    }
   ],
   "source": [
    "new = np.array([60,-2])\n",
    "\n",
    "print \"Using SVM, HSR=\"+str(new[0])+\", log(dt)=\"+str(new[1])+\" yields:\",clf.predict(scaler.transform(new))[0]"
   ]
  },
  {
   "cell_type": "markdown",
   "metadata": {},
   "source": [
    "### Finding the Optimal Parameters\n",
    "The optimal set of parameters yield a great energy error and complete in the shortest amount of time. They will typically lie somewhere close to the support vector boundary. Let's figure out which of our good simulations ran the fastest with a good final energy error!"
   ]
  },
  {
   "cell_type": "code",
   "execution_count": 55,
   "metadata": {
    "collapsed": false
   },
   "outputs": [
    {
     "data": {
      "text/html": [
       "<div>\n",
       "<table border=\"1\" class=\"dataframe\">\n",
       "  <thead>\n",
       "    <tr style=\"text-align: right;\">\n",
       "      <th></th>\n",
       "      <th>HSR</th>\n",
       "      <th>dt</th>\n",
       "      <th>dE</th>\n",
       "      <th>bad_dt</th>\n",
       "      <th>elapsed_time</th>\n",
       "      <th>logdt</th>\n",
       "    </tr>\n",
       "  </thead>\n",
       "  <tbody>\n",
       "    <tr>\n",
       "      <th>48</th>\n",
       "      <td>91.029818</td>\n",
       "      <td>0.004292</td>\n",
       "      <td>2.230817e-12</td>\n",
       "      <td>0</td>\n",
       "      <td>1.154907</td>\n",
       "      <td>-2.367347</td>\n",
       "    </tr>\n",
       "    <tr>\n",
       "      <th>34</th>\n",
       "      <td>24.420531</td>\n",
       "      <td>0.000954</td>\n",
       "      <td>7.334966e-13</td>\n",
       "      <td>0</td>\n",
       "      <td>2.006475</td>\n",
       "      <td>-3.020408</td>\n",
       "    </tr>\n",
       "    <tr>\n",
       "      <th>45</th>\n",
       "      <td>68.664885</td>\n",
       "      <td>0.001151</td>\n",
       "      <td>7.649530e-14</td>\n",
       "      <td>0</td>\n",
       "      <td>2.880943</td>\n",
       "      <td>-2.938776</td>\n",
       "    </tr>\n",
       "    <tr>\n",
       "      <th>27</th>\n",
       "      <td>12.648552</td>\n",
       "      <td>0.000450</td>\n",
       "      <td>3.690783e-13</td>\n",
       "      <td>0</td>\n",
       "      <td>3.210033</td>\n",
       "      <td>-3.346939</td>\n",
       "    </tr>\n",
       "    <tr>\n",
       "      <th>42</th>\n",
       "      <td>51.794747</td>\n",
       "      <td>0.000543</td>\n",
       "      <td>6.776427e-14</td>\n",
       "      <td>0</td>\n",
       "      <td>4.350658</td>\n",
       "      <td>-3.265306</td>\n",
       "    </tr>\n",
       "  </tbody>\n",
       "</table>\n",
       "</div>"
      ],
      "text/plain": [
       "          HSR        dt            dE  bad_dt  elapsed_time     logdt\n",
       "48  91.029818  0.004292  2.230817e-12       0      1.154907 -2.367347\n",
       "34  24.420531  0.000954  7.334966e-13       0      2.006475 -3.020408\n",
       "45  68.664885  0.001151  7.649530e-14       0      2.880943 -2.938776\n",
       "27  12.648552  0.000450  3.690783e-13       0      3.210033 -3.346939\n",
       "42  51.794747  0.000543  6.776427e-14       0      4.350658 -3.265306"
      ]
     },
     "execution_count": 55,
     "metadata": {},
     "output_type": "execute_result"
    }
   ],
   "source": [
    "dgood = data[(data[\"bad_dt\"]==0) & (data[\"dE\"]<1e-9)]\n",
    "dgood = dgood.sort_values(by=\"elapsed_time\")\n",
    "dgood.head()"
   ]
  },
  {
   "cell_type": "markdown",
   "metadata": {},
   "source": [
    "We can see that for this particular problem there are a number of great ($dt$, $HSR$) pairs with a good energy error.  Of course, this energy will grow over time, but it's great to start with as low of an energy error as possible!  \n",
    "\n",
    "Making the final ($dt$, $HSR$) choice will require some human intuition. Here are a few situations that might guide your choice:\n",
    "* Perhaps you want to pick the smallest $HSR$ to avoid excessive IAS15 use.\n",
    "* Perhaps you want to pick a larger $HSR$ to capture complex close encounters which your forsee occurring later in your simulation.\n",
    "* Perhaps you want to pick a smaller $dt$ since you expect eccentricities to grow significantly, increasing the relative velocities between bodies and requiring increased resolution.\n",
    "\n"
   ]
  },
  {
   "cell_type": "markdown",
   "metadata": {},
   "source": [
    "Let's make one final plot displaying $HSR$ and $dt$ as a function of elapsed time for our good ($dt$, $HSR$) pairs."
   ]
  },
  {
   "cell_type": "code",
   "execution_count": 54,
   "metadata": {
    "collapsed": false
   },
   "outputs": [
    {
     "data": {
      "text/plain": [
       "<matplotlib.text.Text at 0x115a34dd0>"
      ]
     },
     "execution_count": 54,
     "metadata": {},
     "output_type": "execute_result"
    },
    {
     "data": {
      "image/png": "[encoded data removed]",
      "text/plain": [
       "<matplotlib.figure.Figure at 0x1146a0b90>"
      ]
     },
     "metadata": {},
     "output_type": "display_data"
    }
   ],
   "source": [
    "plt.scatter(dgood[\"elapsed_time\"],dgood[\"dt\"],c=dgood[\"HSR\"], cmap=\"rainbow\")\n",
    "cbar = plt.colorbar()\n",
    "cbar.set_label(\"$HSR$\",size=10)\n",
    "plt.yscale('log')\n",
    "plt.ylim([1e-6,1])\n",
    "plt.xscale('log')\n",
    "plt.ylabel(\"$dt$\",fontsize=size)\n",
    "plt.xlabel(\"elapsed time (seconds)\",fontsize=size)\n",
    "plt.title('Single Planet, Np=50',fontsize=size)"
   ]
  },
  {
   "cell_type": "code",
   "execution_count": null,
   "metadata": {
    "collapsed": true
   },
   "outputs": [],
   "source": []
  }
 ],
 "metadata": {
  "kernelspec": {
   "display_name": "Python 2",
   "language": "python",
   "name": "python2"
  },
  "language_info": {
   "codemirror_mode": {
    "name": "ipython",
    "version": 2
   },
   "file_extension": ".py",
   "mimetype": "text/x-python",
   "name": "python",
   "nbconvert_exporter": "python",
   "pygments_lexer": "ipython2",
   "version": "2.7.11"
  }
 },
 "nbformat": 4,
 "nbformat_minor": 0
}
