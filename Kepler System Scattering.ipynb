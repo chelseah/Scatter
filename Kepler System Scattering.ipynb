{
 "cells": [
  {
   "cell_type": "markdown",
   "metadata": {},
   "source": [
    "# Kepler Scatter"
   ]
  },
  {
   "cell_type": "markdown",
   "metadata": {},
   "source": [
    "Import rebound and add in the center body"
   ]
  },
  {
   "cell_type": "code",
   "execution_count": 1,
   "metadata": {
    "collapsed": false
   },
   "outputs": [],
   "source": [
    "import rebound\n",
    "import numpy as np\n",
    "sim = rebound.Simulation()\n",
    "sim.add(m=1., r=0.005)"
   ]
  },
  {
   "cell_type": "markdown",
   "metadata": {},
   "source": [
    "For definition of the orbit elements, refer to  https://en.wikipedia.org/wiki/Kepler_orbit"
   ]
  },
  {
   "cell_type": "markdown",
   "metadata": {},
   "source": [
    "We can add the bodies in by hand fairly easy. \n",
    "Mass are all in solar mass, radius and distance in AU, and angles in rad. "
   ]
  },
  {
   "cell_type": "code",
   "execution_count": 2,
   "metadata": {
    "collapsed": false
   },
   "outputs": [],
   "source": [
    "sim.add(m=0.5e-3, r=0.0005,a=0.2, e=7.e-3, inc=0.,Omega=142*0.0174,omega=302.38*0.0174,M=6.1*0.0174,id=1)\n",
    "sim.add(m=0.5e-3, r=0.0005,a=0.22, e=7.e-3, inc=0.,Omega=142*0.0174,omega=302.38*0.0174,M=4*0.0174,id=2)\n",
    "#sim.add(m=1e-3, r=0.0005,a=3.3, e=1.15e-2, inc=0.2*0.0174,Omega=139*0.0174,omega=174*0.0174,M=320*0.0174,id=2)\n",
    "#sim.add(m=1e-3, r=0.0005,a=4.3, e=7.e-3, inc=0.13*0.0174,Omega=140*0.0174,omega=177*0.0174,M=157*0.0174,id=3)\n",
    "#sim.add(m=4.8e-5, r=0.0001,a=0.97, e=2.6e-2, inc=0.47*0.0174,Omega=239*0.0174,omega=124*0.0174,M=172*0.0174,id=4)\n",
    "#sim.add(m=4.8e-5,r=0.0001, a=0.2, e=1.2e-2, inc=0.52*0.0174,Omega=124*0.0174,omega=92*0.0174,M=263*0.0174,id=5)\n",
    "#sim.add(m=4.8e-5,r=0.0001, a=0.39, e=2.e-2, inc=0.5*0.0174,Omega=294*0.0174,omega=187*0.0174,M=292*0.0174,id=6)"
   ]
  },
  {
   "cell_type": "markdown",
   "metadata": {},
   "source": [
    "In practice example, we want to have an initial condition array, so that we can save them and explore later. "
   ]
  },
  {
   "cell_type": "code",
   "execution_count": 3,
   "metadata": {
    "collapsed": false
   },
   "outputs": [
    {
     "name": "stdout",
     "output_type": "stream",
     "text": [
      "[array([  5.00000000e-04,   5.00000000e-04,   2.00000000e-01,\n",
      "         7.00000000e-03,   0.00000000e+00,   0.00000000e+00,\n",
      "         1.44902669e+00,   1.07636184e-01]), array([  5.00000000e-04,   5.00000000e-04,   2.20000000e-01,\n",
      "         7.00000000e-03,   0.00000000e+00,   0.00000000e+00,\n",
      "         1.44902669e+00,   7.05821836e-02])]\n"
     ]
    }
   ],
   "source": [
    "def orbit2str(particle):\n",
    "    orbit=particle.orbit\n",
    "    string=\"%15.12f %15.12f %15.12f %15.12f %15.12f %15.12f %15.12f %15.12f\"%(particle.m,particle.r,orbit.a,orbit.e,orbit.inc,orbit.Omega,orbit.omega,orbit.f)\n",
    "    return string\n",
    "\n",
    "init=[]\n",
    "for p in sim.particles:\n",
    "    if p.id==0:\n",
    "        continue\n",
    "    parr=np.array(list(orbit2str(p).split()),dtype='f8')\n",
    "    init.append(parr)\n",
    "print init"
   ]
  },
  {
   "cell_type": "markdown",
   "metadata": {},
   "source": [
    "To plot these initial orbits in the xy-plane, we can simply call the OrbitPlot function and give it the simulation as an argument."
   ]
  },
  {
   "cell_type": "code",
   "execution_count": 4,
   "metadata": {
    "collapsed": false
   },
   "outputs": [
    {
     "name": "stderr",
     "output_type": "stream",
     "text": [
      "/Users/chelsea/miniconda2/lib/python2.7/site-packages/matplotlib/font_manager.py:273: UserWarning: Matplotlib is building the font cache using fc-list. This may take a moment.\n",
      "  warnings.warn('Matplotlib is building the font cache using fc-list. This may take a moment.')\n"
     ]
    },
    {
     "data": {
      "image/png": "[encoded data removed]",
      "text/plain": [
       "<matplotlib.figure.Figure at 0x104960c10>"
      ]
     },
     "metadata": {},
     "output_type": "display_data"
    }
   ],
   "source": [
    "%matplotlib inline\n",
    "fig = rebound.OrbitPlot(sim)"
   ]
  },
  {
   "cell_type": "code",
   "execution_count": 5,
   "metadata": {
    "collapsed": false
   },
   "outputs": [],
   "source": [
    "#set up integrator\n",
    "sim.integrator=\"ias15\" \n",
    "#sim.integrator=\"hybrid\"\n",
    "sim.ri_hybarid.switch_ratio = 10  #units of Hill radii\n",
    "sim.ri_hybarid.CE_radius = 15.  #X*radius\n",
    "sim.testparticle_type = 1\n",
    "\n",
    "#set up time step    \n",
    "sim.dt = 0.001 #time step in units of yr/2pi\n",
    "tmax = 1e3*6.2832 #time in units of yr/2pi\n",
    "Noutputs=100\n",
    "#set up collision options\n",
    "#by default, the end result of the collision always \n",
    "#keep the small id number.\n",
    "sim.collision=\"direct\"\n",
    "sim.collision_resolve = \"merge\"\n",
    "sim.collisions_track_dE = 1\n",
    "\n",
    "#set up escape options\n",
    "sim.exit_max_distance = 50.\n",
    "#sim.exit_min_distance = 0.01\n",
    "#print sim.collisions[0]"
   ]
  },
  {
   "cell_type": "markdown",
   "metadata": {},
   "source": [
    "Sometimes we would like to examine what's in sim"
   ]
  },
  {
   "cell_type": "code",
   "execution_count": 6,
   "metadata": {
    "collapsed": false
   },
   "outputs": [],
   "source": [
    "def lookup(boo):\n",
    "    import inspect\n",
    "    print inspect.getmembers(boo, predicate=inspect.ismethod)\n",
    "    print inspect.getmembers(boo,lambda a:not(inspect.isroutine(a)))\n",
    "#lookup(sim)\n",
    "#lookup(rebound)"
   ]
  },
  {
   "cell_type": "markdown",
   "metadata": {},
   "source": [
    "Before we do the integration, let's first define some status code for specific situations we run into in the simulation. "
   ]
  },
  {
   "cell_type": "code",
   "execution_count": 7,
   "metadata": {
    "collapsed": false
   },
   "outputs": [],
   "source": [
    "statuscode={\"eject\":2,\"star\":3,\"collision\":1,\"survive\":0}"
   ]
  },
  {
   "cell_type": "markdown",
   "metadata": {},
   "source": [
    "We also want to define an output function to save some intermediate result."
   ]
  },
  {
   "cell_type": "code",
   "execution_count": 8,
   "metadata": {
    "collapsed": true
   },
   "outputs": [],
   "source": [
    "def saveorbit(outfile,sim):\n",
    "    fout=open(outfile,mode=\"a\")\n",
    "    for p in sim.particles:\n",
    "        if p.id==0:\n",
    "            continue\n",
    "        line=orbit2str(p)\n",
    "        fout.write(\"%f %d %s\\n\" % (sim.t,p.id,line))\n",
    "    fout.close()\n",
    "    return"
   ]
  },
  {
   "cell_type": "markdown",
   "metadata": {},
   "source": [
    "Now we are at the main integration loop. Let's initialize a bunch of stuff first. "
   ]
  },
  {
   "cell_type": "code",
   "execution_count": 9,
   "metadata": {
    "collapsed": true
   },
   "outputs": [],
   "source": [
    "times = np.linspace(0,tmax,Noutputs)\n",
    "Ncurrent = sim.N\n",
    "finalstatus=np.zeros(Ncurrent-1)\n",
    "nstep=np.zeros(Ncurrent-1)\n",
    "end=np.zeros([Ncurrent-1,8])\n",
    "outfile=\"testoutput.txt\"\n",
    "fout=open(outfile,\"w\")\n",
    "fout.close()"
   ]
  },
  {
   "cell_type": "markdown",
   "metadata": {},
   "source": [
    "In the main loop, we integrate the required time length till an output checkpoint, except in our case we need to catch:\n",
    "- the ejected particles;\n",
    "- the particles collided with another body\n",
    "\n",
    "We also want to:\n",
    "- update the endresult array;\n",
    "- write to an output file. \n",
    "\n",
    "TBD: \n",
    "This can be write into a nicer way with steps splited into individual functions. "
   ]
  },
  {
   "cell_type": "code",
   "execution_count": 10,
   "metadata": {
    "collapsed": false
   },
   "outputs": [],
   "source": [
    "for i,time in enumerate(times):\n",
    "    try:\n",
    "        sim.integrate(time)   \n",
    "    #deal with Escape\n",
    "    except rebound.Escape as error:\n",
    "        \n",
    "        #print error\n",
    "        max_d2 = 0.\n",
    "        peject=None\n",
    "        for p in sim.particles:\n",
    "            if p.id==0:\n",
    "                continue\n",
    "            d2 = p.x*p.x + p.y*p.y + p.z*p.z\n",
    "            if d2>max_d2:\n",
    "                max_d2 = d2\n",
    "                mid = p.id\n",
    "                peject=p\n",
    "        end[mid-1,:]=np.array(list(orbit2str(peject).split()),dtype='f8')\n",
    "        sim.remove(id=mid)\n",
    "        nstep[mid-1]=int(sim.t/sim.dt)\n",
    "        Ncurrent-=1\n",
    "        finalstatus[mid-1]=statuscode['eject']\n",
    "        #print \"final status\",mid,\"eject\"\n",
    "    #deal with collision\n",
    "    if Ncurrent>sim.N:\n",
    "        #print \"collision\"\n",
    "        for i in xrange(len(finalstatus)):\n",
    "            \n",
    "            if finalstatus[i]==0:\n",
    "                cflag=True\n",
    "                for p in sim.particles:\n",
    "                    #print p,i+1,cflag\n",
    "                    if p.id==0:\n",
    "                        continue\n",
    "                    if (p.id)==(i+1):\n",
    "                        cflag=False\n",
    "                        break\n",
    "                #print i,cflag\n",
    "                if cflag:\n",
    "                    finalstatus[i]=statuscode['collision']\n",
    "                    nstep[i]=int(sim.t/sim.dt)\n",
    "                    #print \"final status\",i+1,'collision'\n",
    "        Ncurrent=sim.N\n",
    "    #print orbit2str(sim.particles[1].orbit)\n",
    "    for p in sim.particles:\n",
    "        if p.id==0:\n",
    "            continue\n",
    "        end[p.id-1,:]=np.array(list(orbit2str(p).split()),dtype='f8')\n",
    "    if not outfile is None:\n",
    "        \n",
    "        saveorbit(outfile,sim)\n",
    "#TBD:how to handel the collision with star\n"
   ]
  },
  {
   "cell_type": "markdown",
   "metadata": {},
   "source": [
    "Now we finished our integration, last step would be write a summary file \n",
    "of all the information we collected about this run. \n",
    "\n",
    "I will use the pickle module here so that the information is stored in \n",
    "a way only python understands. I will demonstrate how to use these information in another plot demo. "
   ]
  },
  {
   "cell_type": "code",
   "execution_count": 11,
   "metadata": {
    "collapsed": false
   },
   "outputs": [
    {
     "name": "stdout",
     "output_type": "stream",
     "text": [
      "[array([  5.00000000e-04,   5.00000000e-04,   2.00000000e-01,\n",
      "         7.00000000e-03,   0.00000000e+00,   0.00000000e+00,\n",
      "         1.44902669e+00,   1.07636184e-01]), array([  5.00000000e-04,   5.00000000e-04,   2.20000000e-01,\n",
      "         7.00000000e-03,   0.00000000e+00,   0.00000000e+00,\n",
      "         1.44902669e+00,   7.05821836e-02])]\n",
      "[[  1.00000000e-03   6.29960525e-04   2.09750356e-01   1.01422505e-02\n",
      "    0.00000000e+00   0.00000000e+00   1.31650754e+00   1.40189660e+00]\n",
      " [  5.00000000e-04   5.00000000e-04   2.20000000e-01   7.00000000e-03\n",
      "    0.00000000e+00   0.00000000e+00   1.44902669e+00   7.05821836e-02]]\n",
      "[ 451728.    4263.]\n",
      "[ 0.  1.]\n",
      "1\n",
      "0\n"
     ]
    }
   ],
   "source": [
    "import pickle\n",
    "#total number of planets left\n",
    "npcount=len(sim.particles)-1\n",
    "#total number of earth type planet left\n",
    "necount=0\n",
    "for p in sim.particles:\n",
    "    if p.id==0:\n",
    "        continue\n",
    "    if p.m<0.5e-3:\n",
    "        necount+=1\n",
    "    nstep[p.id-1]=int(sim.t/sim.dt)\n",
    "    \n",
    "print init\n",
    "print end\n",
    "print nstep\n",
    "print finalstatus\n",
    "print npcount\n",
    "print necount\n",
    "datadump=[init,end,nstep,finalstatus,npcount,necount]\n",
    "infofile=\"info.pkl\"\n",
    "def write_outcome(infofile,datadump):\n",
    "    pickle.dump(datadump,open(infofile,\"w\"))\n",
    "    return"
   ]
  },
  {
   "cell_type": "markdown",
   "metadata": {},
   "source": [
    "Let's just look at the result of the current run with OrbitPlot. "
   ]
  },
  {
   "cell_type": "code",
   "execution_count": 12,
   "metadata": {
    "collapsed": false
   },
   "outputs": [
    {
     "data": {
      "image/png": "[encoded data removed]",
      "text/plain": [
       "<matplotlib.figure.Figure at 0x103dd2f10>"
      ]
     },
     "metadata": {},
     "output_type": "display_data"
    }
   ],
   "source": [
    "#?rebound.OrbitPlot\n",
    "fig = rebound.OrbitPlot(sim)"
   ]
  },
  {
   "cell_type": "code",
   "execution_count": 13,
   "metadata": {
    "collapsed": false
   },
   "outputs": [
    {
     "name": "stdout",
     "output_type": "stream",
     "text": [
      "<rebound.Orbit instance, a=0.209750355568 e=0.0101422504782 inc=0.0 Omega=0.0 omega=1.31650753918 f=1.40189660315>\n",
      "<rebound.Particle object, id=0 m=1.0 x=-13.8036259148 y=0.453582493941 z=0.0 vx=-0.00127923185856 vy=0.00205656943937 vz=0.0>\n",
      "<rebound.Particle object, id=1 m=0.001 x=-13.9945278254 y=0.539565172507 z=0.0 vx=-0.919906707083 vy=-1.98432701089 vz=0.0>\n"
     ]
    }
   ],
   "source": [
    "#sim.status()\n",
    "for o in sim.calculate_orbits():\n",
    "    print o\n",
    "for i in sim.particles:\n",
    "    print i"
   ]
  },
  {
   "cell_type": "code",
   "execution_count": null,
   "metadata": {
    "collapsed": true
   },
   "outputs": [],
   "source": []
  },
  {
   "cell_type": "code",
   "execution_count": null,
   "metadata": {
    "collapsed": true
   },
   "outputs": [],
   "source": []
  }
 ],
 "metadata": {
  "kernelspec": {
   "display_name": "Python 2",
   "language": "python",
   "name": "python2"
  },
  "language_info": {
   "codemirror_mode": {
    "name": "ipython",
    "version": 2
   },
   "file_extension": ".py",
   "mimetype": "text/x-python",
   "name": "python",
   "nbconvert_exporter": "python",
   "pygments_lexer": "ipython2",
   "version": "2.7.11"
  }
 },
 "nbformat": 4,
 "nbformat_minor": 0
}
